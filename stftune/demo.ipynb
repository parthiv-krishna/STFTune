{
 "cells": [
  {
   "cell_type": "code",
   "execution_count": null,
   "metadata": {},
   "outputs": [],
   "source": [
    "import stft\n",
    "import peaks\n",
    "import os\n",
    "import scipy.io.wavfile as wav\n",
    "import IPython.display as ipd\n",
    "import ipywidgets as ipw"
   ]
  },
  {
   "cell_type": "code",
   "execution_count": null,
   "metadata": {},
   "outputs": [],
   "source": [
    "AUDIO_DIR = \"../audio\"\n",
    "wavfiles = os.listdir(AUDIO_DIR)\n",
    "\n",
    "def main(filename, fft_length, freq_thresh, note_gap_time, min_note_length, peak_height):\n",
    "    fs, data = wav.read(f\"{AUDIO_DIR}/{filename}\")\n",
    "    if len(data.shape) == 2:\n",
    "        data = data[:, 0] # get just one channel\n",
    "\n",
    "    if max(data) < 1.01:\n",
    "        data = data * 2**15 # convert [-1, 1] to [-2^15, 2^15] \n",
    "\n",
    "    ipd.display(ipd.Audio(data, rate=fs))\n",
    "    \n",
    "    Zxx, f, t = stft.analysis(data, N=int(fft_length))\n",
    "    stft.spectrogram(Zxx, f, t)\n",
    "\n",
    "    peaks.plot_peaks(Zxx, f, t, height=peak_height)\n",
    "    notes = peaks.find_notes(Zxx, f, t, freq_thresh, note_gap_time, min_note_length, height=peak_height)\n",
    "    note_reprs = repr(notes)[1:-1].split(\", \")\n",
    "    print(f\"Detected {len(notes)} notes in the signal:\", *note_reprs, sep=\"\\n    \")\n",
    "    peaks.plot_notes(notes)\n",
    "\n",
    "ipw.interact(main,\n",
    "             filename=wavfiles,\n",
    "             fft_length=ipw.FloatLogSlider(value=1024, base=2, min=8, max=12, step=1),\n",
    "             freq_thresh=ipw.FloatSlider(value=30, min=10, max=100), \n",
    "             note_gap_time=ipw.FloatSlider(value=0.05, min=0.05, max=0.5, step=0.05),\n",
    "             min_note_length=ipw.FloatSlider(value=0.5, min=0.01, max=1, step=0.01),\n",
    "             peak_height=ipw.FloatLogSlider(value=150, min=1, max=3, step=0.1))"
   ]
  }
 ],
 "metadata": {
  "interpreter": {
   "hash": "8483f564c418c60ec2c745def43795b3b17e3a29930b34f31dc27e0249488e4c"
  },
  "kernelspec": {
   "display_name": "Python 3.9.7 64-bit ('stftune': conda)",
   "language": "python",
   "name": "python3"
  },
  "language_info": {
   "codemirror_mode": {
    "name": "ipython",
    "version": 3
   },
   "file_extension": ".py",
   "mimetype": "text/x-python",
   "name": "python",
   "nbconvert_exporter": "python",
   "pygments_lexer": "ipython3",
   "version": "3.9.7"
  },
  "orig_nbformat": 4
 },
 "nbformat": 4,
 "nbformat_minor": 2
}
