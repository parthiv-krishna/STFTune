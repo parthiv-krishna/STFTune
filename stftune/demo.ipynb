{
 "cells": [
  {
   "cell_type": "code",
   "execution_count": null,
   "metadata": {},
   "outputs": [],
   "source": [
    "import stft\n",
    "import peaks\n",
    "import phasevocoder\n",
    "import os\n",
    "import scipy.io.wavfile as wav\n",
    "import IPython.display as ipd\n",
    "import ipywidgets as ipw"
   ]
  },
  {
   "cell_type": "code",
   "execution_count": null,
   "metadata": {},
   "outputs": [],
   "source": [
    "MELODIES = {\n",
    "    \"7 Nation Army\": [(\"E\", 4), (\"E\", 4), (\"G\", 4), (\"E\", 4), (\"D\", 4), (\"C\", 4), (\"B\", 3)],\n",
    "    \"7 Ds\" : [(\"D\", 4)] * 7,\n",
    "    \"C Major scale\": [(\"C\", 4), (\"D\", 4), (\"E\", 4), (\"F\", 4), (\"G\", 4), (\"A\", 4), (\"B\", 4), (\"C\", 5)],\n",
    "}\n",
    "\n",
    "AUDIO_DIR = \"../audio\"\n",
    "wavfiles = os.listdir(AUDIO_DIR)"
   ]
  },
  {
   "cell_type": "code",
   "execution_count": null,
   "metadata": {},
   "outputs": [],
   "source": [
    "def detect_notes(filename, fft_length, freq_thresh, note_gap_time, min_note_length, peak_height):\n",
    "    fs, data = wav.read(f\"{AUDIO_DIR}/{filename}\")\n",
    "    if len(data.shape) == 2:\n",
    "        data = data[:, 0] # get just one channel\n",
    "\n",
    "    if max(data) <= 1:\n",
    "        data = data * 2**15 # convert [-1, 1] to [-2^15, 2^15] \n",
    "\n",
    "    ipd.display(ipd.Audio(data, rate=fs))\n",
    "    \n",
    "    Zxx, f, t = stft.analysis(data, N=int(fft_length))\n",
    "    stft.spectrogram(Zxx, f, t, title=\"Spectrogram of Input Signal\")\n",
    "\n",
    "    peaks.plot_peaks(Zxx, f, t, title=\"Peaks in Input Signal\", height=peak_height)\n",
    "    notes = peaks.find_notes(Zxx, f, t, freq_thresh, note_gap_time, min_note_length, height=peak_height)\n",
    "    note_reprs = repr(notes)[1:-1].split(\", \")\n",
    "    print(f\"Detected {len(notes)} notes in the signal:\", *note_reprs, sep=\"\\n    \")\n",
    "    peaks.plot_notes(notes, title=\"Notes in Input Signal\") \n",
    "    "
   ]
  },
  {
   "cell_type": "code",
   "execution_count": null,
   "metadata": {},
   "outputs": [],
   "source": [
    "ui_notes = ipw.interact_manual.options(manual_name=\"Detect notes!\")\n",
    "\n",
    "ui_notes(detect_notes,\n",
    "         filename=wavfiles,\n",
    "         fft_length=ipw.FloatLogSlider(value=1024, base=2, min=8, max=12, step=1),\n",
    "         freq_thresh=ipw.FloatSlider(value=30, min=10, max=100), \n",
    "         note_gap_time=ipw.FloatSlider(value=0.1, min=0.05, max=0.5, step=0.01),\n",
    "         min_note_length=ipw.FloatSlider(value=0.5, min=0.01, max=1, step=0.01),\n",
    "         peak_height=ipw.FloatLogSlider(value=150, min=1, max=3, step=0.1))\n",
    "\n",
    "ipd.display(ui_notes)"
   ]
  },
  {
   "cell_type": "code",
   "execution_count": null,
   "metadata": {},
   "outputs": [],
   "source": [
    "def shift_pitch(filename, num_semitones, fft_length):\n",
    "    fs, data = wav.read(f\"{AUDIO_DIR}/{filename}\")\n",
    "    if len(data.shape) == 2:\n",
    "        data = data[:, 0] # get just one channel\n",
    "\n",
    "    if max(data) <= 1:\n",
    "        data = data * 2**15 # convert [-1, 1] to [-2^15, 2^15] \n",
    "\n",
    "    ipd.display(ipd.Audio(data, rate=fs))\n",
    "    \n",
    "    Zxx, f, t = stft.analysis(data, N=int(fft_length))\n",
    "    stft.spectrogram(Zxx, f, t, title=\"Spectrogram of Input Signal\")\n",
    "\n",
    "    freq_ratio = 2**(num_semitones/12)\n",
    "    shifted = phasevocoder.pitch_shift(data, freq_ratio)\n",
    "    \n",
    "    Zxx_shift, f_shift, t_shift = stft.analysis(data, N=int(fft_length))\n",
    "    stft.spectrogram(Zxx_shift, f_shift, t_shift, title=\"Spectrogram of Shifted Signal\")\n",
    "    \n",
    "    ipd.display(ipd.Audio(shifted, rate=fs))\n",
    "    "
   ]
  },
  {
   "cell_type": "code",
   "execution_count": null,
   "metadata": {},
   "outputs": [],
   "source": [
    "ui_shift = ipw.interact_manual.options(manual_name=\"Shift pitch!\")\n",
    "\n",
    "ui_shift(shift_pitch,\n",
    "         filename=wavfiles,\n",
    "         num_semitones=ipw.IntSlider(value=0, min=-12, max=12),\n",
    "         fft_length=ipw.FloatLogSlider(value=1024, base=2, min=8, max=12, step=1))\n",
    "\n",
    "ipd.display(ui_shift)"
   ]
  },
  {
   "cell_type": "code",
   "execution_count": null,
   "metadata": {},
   "outputs": [],
   "source": [
    "def stftune(filename, melody, fft_length, freq_thresh, note_gap_time, min_note_length, peak_height):\n",
    "    fs, data = wav.read(f\"{AUDIO_DIR}/{filename}\")\n",
    "    if len(data.shape) == 2:\n",
    "        data = data[:, 0] # get just one channel\n",
    "\n",
    "    if max(data) <= 1:\n",
    "        data = data * 2**15 # convert [-1, 1] to [-2^15, 2^15] \n",
    "\n",
    "    ipd.display(ipd.Audio(data, rate=fs))\n",
    "    \n",
    "    Zxx, f, t = stft.analysis(data, N=int(fft_length))\n",
    "    stft.spectrogram(Zxx, f, t, title=\"Spectrogram of Input Signal\")\n",
    "\n",
    "    peaks.plot_peaks(Zxx, f, t, title=\"Peaks in Input Signal\", height=peak_height)\n",
    "    notes = peaks.find_notes(Zxx, f, t, freq_thresh, note_gap_time, min_note_length, height=peak_height)\n",
    "    note_reprs = repr(notes)[1:-1].split(\", \")\n",
    "    print(f\"Detected {len(notes)} notes in the signal:\", *note_reprs, sep=\"\\n    \")\n",
    "    peaks.plot_notes(notes, title=\"Notes in Input Signal\") \n",
    "    \n",
    "    desired_notes = MELODIES[melody]\n",
    "    desired_notes_str = \" \".join(list(map(lambda t: f\"{t[0]}{t[1]}\", desired_notes)))\n",
    "    print(f\"Retuned signal to {melody}: {desired_notes_str}\")\n",
    "    retuned = phasevocoder.retune(data, notes, desired_notes)\n",
    "    ipd.display(ipd.Audio(retuned, rate=fs))\n",
    "    \n",
    "    Zxx_retune, f_retune, t_retune = stft.analysis(retuned, N=int(fft_length))\n",
    "    stft.spectrogram(Zxx_retune, f_retune, t_retune, title=\"Spectrogram of Retuned Signal\")"
   ]
  },
  {
   "cell_type": "code",
   "execution_count": null,
   "metadata": {},
   "outputs": [],
   "source": [
    "ui_stftune = ipw.interact_manual.options(manual_name=\"Run STFTune!\")\n",
    "\n",
    "ui_stftune(stftune,\n",
    "           filename=wavfiles,\n",
    "           melody=MELODIES.keys(),\n",
    "           fft_length=ipw.FloatLogSlider(value=1024, base=2, min=8, max=12, step=1),\n",
    "           freq_thresh=ipw.FloatSlider(value=30, min=10, max=100), \n",
    "           note_gap_time=ipw.FloatSlider(value=0.1, min=0.05, max=0.5, step=0.01),\n",
    "           min_note_length=ipw.FloatSlider(value=0.5, min=0.01, max=1, step=0.01),\n",
    "           peak_height=ipw.FloatLogSlider(value=150, min=1, max=3, step=0.1))\n",
    "\n",
    "ipd.display(ui_stftune)"
   ]
  },
  {
   "cell_type": "code",
   "execution_count": null,
   "metadata": {},
   "outputs": [],
   "source": []
  }
 ],
 "metadata": {
  "interpreter": {
   "hash": "8483f564c418c60ec2c745def43795b3b17e3a29930b34f31dc27e0249488e4c"
  },
  "kernelspec": {
   "display_name": "Python 3 (ipykernel)",
   "language": "python",
   "name": "python3"
  },
  "language_info": {
   "codemirror_mode": {
    "name": "ipython",
    "version": 3
   },
   "file_extension": ".py",
   "mimetype": "text/x-python",
   "name": "python",
   "nbconvert_exporter": "python",
   "pygments_lexer": "ipython3",
   "version": "3.9.7"
  }
 },
 "nbformat": 4,
 "nbformat_minor": 2
}
